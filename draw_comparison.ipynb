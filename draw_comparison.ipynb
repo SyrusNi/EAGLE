{
 "cells": [
  {
   "cell_type": "code",
   "execution_count": 63,
   "metadata": {},
   "outputs": [],
   "source": [
    "from fastchat.llm_judge.common import load_questions, load_model_answers\n",
    "\n",
    "#medusa_path = 'llm_judge/data/mt_bench/model_answer/medusa_vicuna-7b-v1.3_medusa_5-temperature-0.0-posterior_threshold-0.09-posterior_alpha-0.3-top_p-0.8-sampling-typical-fast-False.jsonl'\n",
    "medusa_path = 'llm_judge/data/mt_bench/model_answer/official_medusa_vicuna-7b-v1.3_medusa_5-temperature-0.0-posterior_threshold-0.09-posterior_alpha-0.3-top_p-0.8-sampling-typical-fast-False.jsonl'\n",
    "medusa_path = 'eagle/data/mt_bench/model_answer/eagle_train_vicuna-7b-v1.3-temperature-1.0.jsonl'\n",
    "base_path = 'eagle/data/mt_bench/model_answer/baseline_vicuna-7b-v1.3-temperature-1.0.jsonl'\n",
    "ques_path = 'eagle/data/mt_bench/question.jsonl'"
   ]
  },
  {
   "cell_type": "code",
   "execution_count": 64,
   "metadata": {},
   "outputs": [],
   "source": [
    "medusa_ans = load_questions(medusa_path, None, None)\n",
    "base_ans = load_questions(base_path, None, None)\n",
    "ques = load_questions(ques_path, None, None)"
   ]
  },
  {
   "cell_type": "code",
   "execution_count": 65,
   "metadata": {},
   "outputs": [],
   "source": [
    "def gather_attr(ans: list, attr: str):\n",
    "    '''\n",
    "    Gather attr from a list of json object\n",
    "\n",
    "    Args:\n",
    "    - ans: answer list\n",
    "    - attr: attributes of json object, including idxs, new_tokens, wall_time\n",
    "\n",
    "    Return:\n",
    "    - a list of target attributes\n",
    "    '''\n",
    "    attrs = []\n",
    "    for item in ans:\n",
    "        attrs.append(sum(item['choices'][0][attr]))\n",
    "    return attrs"
   ]
  },
  {
   "cell_type": "code",
   "execution_count": 66,
   "metadata": {},
   "outputs": [],
   "source": [
    "bench_dict = {'id': [item['question_id'] for item in ques], 'category': [item['category'] for item in ques]}\n",
    "colomn = ['idxs', 'new_tokens', 'wall_time']\n",
    "for key in colomn:\n",
    "    bench_dict['medusa_'+key] = gather_attr(medusa_ans, key)\n",
    "for key in colomn:\n",
    "    bench_dict['base_'+key] = gather_attr(base_ans, key)"
   ]
  },
  {
   "cell_type": "code",
   "execution_count": 67,
   "metadata": {},
   "outputs": [
    {
     "data": {
      "text/html": [
       "<div>\n",
       "<style scoped>\n",
       "    .dataframe tbody tr th:only-of-type {\n",
       "        vertical-align: middle;\n",
       "    }\n",
       "\n",
       "    .dataframe tbody tr th {\n",
       "        vertical-align: top;\n",
       "    }\n",
       "\n",
       "    .dataframe thead th {\n",
       "        text-align: right;\n",
       "    }\n",
       "</style>\n",
       "<table border=\"1\" class=\"dataframe\">\n",
       "  <thead>\n",
       "    <tr style=\"text-align: right;\">\n",
       "      <th></th>\n",
       "      <th>id</th>\n",
       "      <th>category</th>\n",
       "      <th>medusa_idxs</th>\n",
       "      <th>medusa_new_tokens</th>\n",
       "      <th>medusa_wall_time</th>\n",
       "      <th>base_idxs</th>\n",
       "      <th>base_new_tokens</th>\n",
       "      <th>base_wall_time</th>\n",
       "    </tr>\n",
       "  </thead>\n",
       "  <tbody>\n",
       "    <tr>\n",
       "      <th>0</th>\n",
       "      <td>81</td>\n",
       "      <td>writing</td>\n",
       "      <td>461</td>\n",
       "      <td>1302</td>\n",
       "      <td>16.721851</td>\n",
       "      <td>1206</td>\n",
       "      <td>1208</td>\n",
       "      <td>33.102403</td>\n",
       "    </tr>\n",
       "    <tr>\n",
       "      <th>1</th>\n",
       "      <td>82</td>\n",
       "      <td>writing</td>\n",
       "      <td>141</td>\n",
       "      <td>439</td>\n",
       "      <td>5.311322</td>\n",
       "      <td>491</td>\n",
       "      <td>493</td>\n",
       "      <td>13.472281</td>\n",
       "    </tr>\n",
       "    <tr>\n",
       "      <th>2</th>\n",
       "      <td>83</td>\n",
       "      <td>writing</td>\n",
       "      <td>88</td>\n",
       "      <td>290</td>\n",
       "      <td>3.486323</td>\n",
       "      <td>255</td>\n",
       "      <td>257</td>\n",
       "      <td>7.121338</td>\n",
       "    </tr>\n",
       "    <tr>\n",
       "      <th>3</th>\n",
       "      <td>84</td>\n",
       "      <td>writing</td>\n",
       "      <td>378</td>\n",
       "      <td>1060</td>\n",
       "      <td>14.562880</td>\n",
       "      <td>835</td>\n",
       "      <td>837</td>\n",
       "      <td>22.260955</td>\n",
       "    </tr>\n",
       "    <tr>\n",
       "      <th>4</th>\n",
       "      <td>85</td>\n",
       "      <td>writing</td>\n",
       "      <td>282</td>\n",
       "      <td>616</td>\n",
       "      <td>10.881136</td>\n",
       "      <td>624</td>\n",
       "      <td>626</td>\n",
       "      <td>16.581606</td>\n",
       "    </tr>\n",
       "    <tr>\n",
       "      <th>...</th>\n",
       "      <td>...</td>\n",
       "      <td>...</td>\n",
       "      <td>...</td>\n",
       "      <td>...</td>\n",
       "      <td>...</td>\n",
       "      <td>...</td>\n",
       "      <td>...</td>\n",
       "      <td>...</td>\n",
       "    </tr>\n",
       "    <tr>\n",
       "      <th>75</th>\n",
       "      <td>156</td>\n",
       "      <td>humanities</td>\n",
       "      <td>200</td>\n",
       "      <td>573</td>\n",
       "      <td>7.841516</td>\n",
       "      <td>995</td>\n",
       "      <td>997</td>\n",
       "      <td>26.267545</td>\n",
       "    </tr>\n",
       "    <tr>\n",
       "      <th>76</th>\n",
       "      <td>157</td>\n",
       "      <td>humanities</td>\n",
       "      <td>249</td>\n",
       "      <td>687</td>\n",
       "      <td>9.630236</td>\n",
       "      <td>902</td>\n",
       "      <td>904</td>\n",
       "      <td>23.861461</td>\n",
       "    </tr>\n",
       "    <tr>\n",
       "      <th>77</th>\n",
       "      <td>158</td>\n",
       "      <td>humanities</td>\n",
       "      <td>308</td>\n",
       "      <td>946</td>\n",
       "      <td>11.741002</td>\n",
       "      <td>600</td>\n",
       "      <td>602</td>\n",
       "      <td>15.853966</td>\n",
       "    </tr>\n",
       "    <tr>\n",
       "      <th>78</th>\n",
       "      <td>159</td>\n",
       "      <td>humanities</td>\n",
       "      <td>311</td>\n",
       "      <td>900</td>\n",
       "      <td>11.278287</td>\n",
       "      <td>1048</td>\n",
       "      <td>1050</td>\n",
       "      <td>28.334778</td>\n",
       "    </tr>\n",
       "    <tr>\n",
       "      <th>79</th>\n",
       "      <td>160</td>\n",
       "      <td>humanities</td>\n",
       "      <td>350</td>\n",
       "      <td>880</td>\n",
       "      <td>12.731774</td>\n",
       "      <td>942</td>\n",
       "      <td>944</td>\n",
       "      <td>25.989477</td>\n",
       "    </tr>\n",
       "  </tbody>\n",
       "</table>\n",
       "<p>80 rows × 8 columns</p>\n",
       "</div>"
      ],
      "text/plain": [
       "     id    category  medusa_idxs  medusa_new_tokens  medusa_wall_time  \\\n",
       "0    81     writing          461               1302         16.721851   \n",
       "1    82     writing          141                439          5.311322   \n",
       "2    83     writing           88                290          3.486323   \n",
       "3    84     writing          378               1060         14.562880   \n",
       "4    85     writing          282                616         10.881136   \n",
       "..  ...         ...          ...                ...               ...   \n",
       "75  156  humanities          200                573          7.841516   \n",
       "76  157  humanities          249                687          9.630236   \n",
       "77  158  humanities          308                946         11.741002   \n",
       "78  159  humanities          311                900         11.278287   \n",
       "79  160  humanities          350                880         12.731774   \n",
       "\n",
       "    base_idxs  base_new_tokens  base_wall_time  \n",
       "0        1206             1208       33.102403  \n",
       "1         491              493       13.472281  \n",
       "2         255              257        7.121338  \n",
       "3         835              837       22.260955  \n",
       "4         624              626       16.581606  \n",
       "..        ...              ...             ...  \n",
       "75        995              997       26.267545  \n",
       "76        902              904       23.861461  \n",
       "77        600              602       15.853966  \n",
       "78       1048             1050       28.334778  \n",
       "79        942              944       25.989477  \n",
       "\n",
       "[80 rows x 8 columns]"
      ]
     },
     "execution_count": 67,
     "metadata": {},
     "output_type": "execute_result"
    }
   ],
   "source": [
    "import pandas as pd\n",
    "\n",
    "bench_data = pd.DataFrame(bench_dict)\n",
    "bench_data"
   ]
  },
  {
   "cell_type": "code",
   "execution_count": 68,
   "metadata": {},
   "outputs": [
    {
     "name": "stdout",
     "output_type": "stream",
     "text": [
      "Medusa model: 78.28297014757206 tokens/s, Base model: 37.175484644251725 tokens/s \n",
      " Compression ratio: 2.9584920030464583, Accelerate: 2.105768650945526\n"
     ]
    }
   ],
   "source": [
    "medusa_speed = bench_data['medusa_new_tokens'].sum()/bench_data['medusa_wall_time'].sum()\n",
    "base_speed = bench_data['base_new_tokens'].sum()/bench_data['base_wall_time'].sum()\n",
    "compress_ratio = bench_data['medusa_new_tokens'].sum()/bench_data['medusa_idxs'].sum()\n",
    "\n",
    "print(f'Medusa model: {medusa_speed} tokens/s, Base model: {base_speed} tokens/s \\n Compression ratio: {compress_ratio}, Accelerate: {medusa_speed/base_speed}')"
   ]
  },
  {
   "cell_type": "code",
   "execution_count": 69,
   "metadata": {},
   "outputs": [],
   "source": [
    "cat_data = bench_data.groupby('category')\n",
    "cat_medusa = cat_data['medusa_new_tokens'].sum()/cat_data['medusa_wall_time'].sum()\n",
    "cat_base = cat_data['base_new_tokens'].sum()/cat_data['base_wall_time'].sum()"
   ]
  },
  {
   "cell_type": "code",
   "execution_count": 70,
   "metadata": {},
   "outputs": [
    {
     "data": {
      "text/plain": [
       "category\n",
       "writing       1.871516\n",
       "humanities    1.958343\n",
       "roleplay      2.019774\n",
       "stem          2.049538\n",
       "reasoning     2.140047\n",
       "extraction    2.244258\n",
       "math          2.266674\n",
       "coding        2.502399\n",
       "dtype: float64"
      ]
     },
     "execution_count": 70,
     "metadata": {},
     "output_type": "execute_result"
    }
   ],
   "source": [
    "speed_up = (cat_medusa/cat_base).sort_values()\n",
    "speed_up"
   ]
  },
  {
   "cell_type": "code",
   "execution_count": 71,
   "metadata": {},
   "outputs": [
    {
     "data": {
      "image/png": "[encoded data removed]",
      "text/plain": [
       "<Figure size 640x480 with 1 Axes>"
      ]
     },
     "metadata": {},
     "output_type": "display_data"
    }
   ],
   "source": [
    "import matplotlib.pyplot as plt\n",
    "\n",
    "speed_up.plot.bar(bottom = 0, color=['blue','orange','green','red','purple','brown','pink','grey'])\n",
    "for i, value in enumerate(speed_up):     \n",
    "    plt.text(i, value+0.1, str('%.2fx'%value), ha='center', va='top')\n",
    "plt.ylim((1.0, speed_up.max()+0.2))\n",
    "plt.xlabel('category')\n",
    "plt.ylabel('Speedup')\n",
    "plt.title('Speedup on different categories for Vicuna-7B (model I trained)')\n",
    "plt.show()"
   ]
  }
 ],
 "metadata": {
  "kernelspec": {
   "display_name": "spec_decode",
   "language": "python",
   "name": "python3"
  },
  "language_info": {
   "codemirror_mode": {
    "name": "ipython",
    "version": 3
   },
   "file_extension": ".py",
   "mimetype": "text/x-python",
   "name": "python",
   "nbconvert_exporter": "python",
   "pygments_lexer": "ipython3",
   "version": "3.10.16"
  }
 },
 "nbformat": 4,
 "nbformat_minor": 2
}
